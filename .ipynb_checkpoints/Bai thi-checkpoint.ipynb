{
 "cells": [
  {
   "cell_type": "markdown",
   "metadata": {
    "colab_type": "text",
    "id": "KRp9sdY_myuU"
   },
   "source": [
    "# Bài kiểm tra cuối môn: LDS3 \n",
    "### Cho dữ liệu housing-prices-dataset/train.csv\n",
    "### Yêu cầu: Thực hiện các công việc sau\n",
    "1. Xác định các thuộc tính\n",
    "2. Phân tích đơn biến  \n",
    "   Để dự đoán giá nhà, giả sử cần các thông tin sau: 'LotArea', 'YearBuilt', '1stFlrSF', '2ndFlrSF', 'FullBath', 'BedroomAbvGr', \n",
    "   'TotRmsAbvGrd' => phân tích các biến này\n",
    "3. Phân tích hai biến\n",
    "4. Xử lý dữ liệu thiếu\n",
    "5. Phát hiện và xử lý ngoại lệ"
   ]
  },
  {
   "cell_type": "code",
   "execution_count": null,
   "metadata": {
    "colab": {},
    "colab_type": "code",
    "id": "-0SfkvfcmyuV"
   },
   "outputs": [],
   "source": [
    "# link: https://www.kaggle.com/alphaepsilon/housing-prices-dataset"
   ]
  },
  {
   "cell_type": "code",
   "execution_count": null,
   "metadata": {
    "colab": {
     "base_uri": "https://localhost:8080/",
     "height": 71
    },
    "colab_type": "code",
    "executionInfo": {
     "elapsed": 38244,
     "status": "ok",
     "timestamp": 1589621446054,
     "user": {
      "displayName": "Phuong Khuat Thuy",
      "photoUrl": "",
      "userId": "16807426118474640783"
     },
     "user_tz": -420
    },
    "id": "uq7bj27bmyuZ",
    "outputId": "793afa05-8d37-4935-8163-bd5a4f6c4b8c"
   },
   "outputs": [],
   "source": [
    "import pandas as pd\n",
    "import numpy as np\n",
    "import seaborn as sns\n",
    "import matplotlib.pyplot as plt\n",
    "import scipy"
   ]
  },
  {
   "cell_type": "code",
   "execution_count": null,
   "metadata": {
    "colab": {
     "base_uri": "https://localhost:8080/",
     "height": 34
    },
    "colab_type": "code",
    "executionInfo": {
     "elapsed": 40304,
     "status": "ok",
     "timestamp": 1589621448127,
     "user": {
      "displayName": "Phuong Khuat Thuy",
      "photoUrl": "",
      "userId": "16807426118474640783"
     },
     "user_tz": -420
    },
    "id": "SSESqtP_myub",
    "outputId": "15800be4-4e06-4445-e5d2-1473485034bf"
   },
   "outputs": [],
   "source": [
    "df = pd.read_csv(\"housing-prices-dataset/train.csv\")\n",
    "df.shape"
   ]
  },
  {
   "cell_type": "code",
   "execution_count": null,
   "metadata": {
    "colab": {},
    "colab_type": "code",
    "id": "soQR85wfmyuf"
   },
   "outputs": [],
   "source": [
    "df.info()"
   ]
  },
  {
   "cell_type": "markdown",
   "metadata": {
    "colab_type": "text",
    "id": "aRcF-BLSmyuk"
   },
   "source": [
    "## 1. Xác định các thuộc tính\n",
    "1. Input: Tất cả ngoại trừ SalePrice\n",
    "2. Output: SalePrice\n",
    "3. Type of variable: <br/>\n",
    "    3.1 Predictor: khác SalePrice <br/>\n",
    "    3.2 Target: SalePrice <br/>\n",
    "4. Data Type: <br/>\n",
    "    4.1 Charactor/String <br/>\n",
    "    4.2 Numeric <br/>\n",
    "5. Variable Category:<br/>\n",
    "    5.1 Categorical: kieu so, kieu chuoi  <br/>\n",
    "    5.2 Continuous: int, float"
   ]
  },
  {
   "cell_type": "code",
   "execution_count": null,
   "metadata": {
    "colab": {
     "base_uri": "https://localhost:8080/",
     "height": 1000
    },
    "colab_type": "code",
    "executionInfo": {
     "elapsed": 40292,
     "status": "ok",
     "timestamp": 1589621448129,
     "user": {
      "displayName": "Phuong Khuat Thuy",
      "photoUrl": "",
      "userId": "16807426118474640783"
     },
     "user_tz": -420
    },
    "id": "yWWJQ7vdnLg5",
    "outputId": "2d1b80d1-e310-429f-be92-0e03243e9d69",
    "scrolled": true
   },
   "outputs": [],
   "source": [
    "df.info()"
   ]
  },
  {
   "cell_type": "code",
   "execution_count": null,
   "metadata": {
    "colab": {},
    "colab_type": "code",
    "id": "FEoD-4Wimyuk"
   },
   "outputs": [],
   "source": [
    "#Tạo danh sách các cột kiểu số \n",
    "numbers = [f for f in df.columns if df.dtypes[f] != 'object'] # Quantitative: # du lieu kieu so\n",
    "list_nums = ', '.join(numbers)\n",
    "list_nums"
   ]
  },
  {
   "cell_type": "code",
   "execution_count": null,
   "metadata": {
    "colab": {},
    "colab_type": "code",
    "id": "OwKi8Wo-myuq"
   },
   "outputs": [],
   "source": [
    "# Tạo danh sách cột kiểu chuỗi\n",
    "objects = [f for f in df.columns if df.dtypes[f] == 'object'] # Qualitative : # du lieu kieu chuoi\n",
    "list_obj = ', '.join(objects)\n",
    "list_obj"
   ]
  },
  {
   "cell_type": "code",
   "execution_count": null,
   "metadata": {
    "colab": {
     "base_uri": "https://localhost:8080/",
     "height": 884
    },
    "colab_type": "code",
    "executionInfo": {
     "elapsed": 40252,
     "status": "ok",
     "timestamp": 1589621448132,
     "user": {
      "displayName": "Phuong Khuat Thuy",
      "photoUrl": "",
      "userId": "16807426118474640783"
     },
     "user_tz": -420
    },
    "id": "i6qv61ptmyuu",
    "outputId": "f1817211-02c4-4eac-dfee-fabb11b48307"
   },
   "outputs": [],
   "source": [
    "# Categorical: \n",
    "# Duyệt qua các biến chuỗi, in ra các giá trị có trong mỗi biến -->  xem xet cac bien phan loai kieu chuoi\n",
    "# Với kết quả in ra, xác định các biến kiểu số thuộc loại Categorical \n",
    "i = 1\n",
    "for obj in objects:\n",
    "    print(i, \"/\", obj, \"\\t\",len(df[obj].unique()),\":\", df[obj].unique())\n",
    "    i = i+1"
   ]
  },
  {
   "cell_type": "code",
   "execution_count": null,
   "metadata": {
    "colab": {
     "base_uri": "https://localhost:8080/",
     "height": 1000
    },
    "colab_type": "code",
    "executionInfo": {
     "elapsed": 40242,
     "status": "ok",
     "timestamp": 1589621448132,
     "user": {
      "displayName": "Phuong Khuat Thuy",
      "photoUrl": "",
      "userId": "16807426118474640783"
     },
     "user_tz": -420
    },
    "id": "MpPizRLQmyuw",
    "outputId": "a8c01504-86e5-4a18-c83a-151f20526868"
   },
   "outputs": [],
   "source": [
    "# Duyệt qua các biến kiểu số in ra các giá trị phân biệt có trong cột (chỉ in các giá trị khi số giá trị phân biệt nhỏ hơn 120)\n",
    "# Với kết quả in ra, xác định các biến kiểu số thuộc loại Categorical \n",
    "i = 1\n",
    "for obj in numbers:\n",
    "    print(i, \"/\", obj, \"\\t\",len(df[obj].unique()),\":\", df[obj].unique() if len(df[obj].unique())<120 else '')\n",
    "    i = i+1"
   ]
  },
  {
   "cell_type": "markdown",
   "metadata": {
    "colab": {},
    "colab_type": "code",
    "id": "iHyAi1nCmyuz"
   },
   "source": [
    "- Quan sát 2 kết quả trên để kết luận, xác định tập features. Trong phần tiếp theo giả sử chúng ta chỉ làm việc với các \n",
    "features = 'LotArea', 'YearBuilt', '1stFlrSF', '2ndFlrSF', 'FullBath', 'BedroomAbvGr', 'TotRmsAbvGrd'   "
   ]
  },
  {
   "cell_type": "markdown",
   "metadata": {
    "colab_type": "text",
    "id": "5KEUxcHgmyu1"
   },
   "source": [
    "## 2. Phân tích đơn biến"
   ]
  },
  {
   "cell_type": "code",
   "execution_count": null,
   "metadata": {
    "colab": {},
    "colab_type": "code",
    "id": "TGnJBb_Hmyu2"
   },
   "outputs": [],
   "source": [
    "features = ['LotArea', 'YearBuilt', '1stFlrSF', '2ndFlrSF', 'FullBath', 'BedroomAbvGr', 'TotRmsAbvGrd']"
   ]
  },
  {
   "cell_type": "markdown",
   "metadata": {},
   "source": [
    "### 2.1. Với mỗi biến continuous. Hãy thực hiện các yêu cầu sau: \n",
    "- Vẽ đồ thị gồm 2 phần: histogram và boxplot của biến.\n",
    "- Tìm mean, mode, độ nghiêng, độ nhọn  --> Nhận xét có phân phối chuẩn không.\n",
    "- Nếu không phải phân phối chuẩn: xác định Q1, Q3, IQR, Oulier Upper, Outlier Lower\n",
    "  Nếu là phân phối chuẩn: xác định Oulier Upper, Outlier Lower theo Z-score\n",
    "- Xác định tập dữ  outlier trên và dưới. \n",
    "- Kiểm tra nếu tổng số các outlier nhỏ hơn 5% số phần tử tổng thể thì -->  xóa các outlier này khỏi tập dữ liệu. \n",
    "#### Danh sách các biến Continuous cần thực hiện\n",
    "- LotArea\n",
    "- 1stFlrSF\n",
    "- 2ndFlrS"
   ]
  },
  {
   "cell_type": "markdown",
   "metadata": {
    "colab_type": "text",
    "id": "ClJLNh8gmyvm"
   },
   "source": [
    "### 2.2. Với mỗi biến categorical hãy thực hiện các yêu cầu sau:\n",
    "- Sử dụng groupby, count để đếm số các giá trị phân biệt có trong biến\n",
    "- Vẽ đồ thị dạng bar plot với các dữ liệu nhận được. Nhận xét. \n",
    "\n",
    "#### Categorical Variables\n",
    "- FullBath\n",
    "- BedroomAbvGr\n",
    "- TotRmsAbvGrd"
   ]
  },
  {
   "cell_type": "markdown",
   "metadata": {
    "colab_type": "text",
    "id": "Xjgqk-eJmyv3"
   },
   "source": [
    "## 3. Phân tích hai biến\n",
    "### Continuous & Continous\n",
    "- Sử dụng pairplot để vẽ dữ liệu có trong 3 biến ['LotArea', '1stFlrSF', '2ndFlrSF]\n",
    "- Sử dụng hàm corr để tính độ tương quan của 3 biến này.\n",
    "- Nhận xét mối liên hệ giữa các biến"
   ]
  },
  {
   "cell_type": "markdown",
   "metadata": {
    "colab_type": "text",
    "id": "Xjgqk-eJmyv3"
   },
   "source": [
    "### Categorical & Categorical\n",
    "- 'FullBath', 'BedroomAbvGr', 'TotRmsAbvGrd'\n",
    "- Dùng Chi-square test để kiểm tra độ tương qua giữa các cặp biến: FullBath' và 'BedroomAbvGr', ...  ."
   ]
  },
  {
   "cell_type": "markdown",
   "metadata": {
    "colab_type": "text",
    "id": "Xjgqk-eJmyv3"
   },
   "source": [
    "### Categorical & Continuous\n",
    "- Có quan hệ giữa 'FullBath' và 'LotArea'? ('FullBath' có bị ảnh hưởng bởi'LotArea'?).\n",
    "- Dùng biểu đồ boxplot của Seaborn để vẽ biểu đồ giữa 2 biến (x=\"FullBath\", y=\"LotArea\") \n",
    "- Dùng ANOVA one way.\n",
    "- Dùng Tukey HSD nhận xét về mối quan hệ (nếu có)."
   ]
  },
  {
   "cell_type": "markdown",
   "metadata": {
    "colab_type": "text",
    "id": "hXGlys8vmywZ"
   },
   "source": [
    "## 4. Xử lý dữ liệu thiếu\n",
    "- Kiểm tra xem có cột nào chứa dữ liệu null không"
   ]
  }
 ],
 "metadata": {
  "colab": {
   "collapsed_sections": [
    "5jm__gcwmyvm",
    "ClJLNh8gmyvm",
    "HM4-fxKSmywH"
   ],
   "name": "Ex1_house_pricing-print.ipynb",
   "provenance": []
  },
  "kernelspec": {
   "display_name": "Python 3",
   "language": "python",
   "name": "python3"
  },
  "language_info": {
   "codemirror_mode": {
    "name": "ipython",
    "version": 3
   },
   "file_extension": ".py",
   "mimetype": "text/x-python",
   "name": "python",
   "nbconvert_exporter": "python",
   "pygments_lexer": "ipython3",
   "version": "3.7.6"
  }
 },
 "nbformat": 4,
 "nbformat_minor": 1
}
